{
 "cells": [
  {
   "cell_type": "code",
   "execution_count": 1,
   "id": "45e055a8",
   "metadata": {},
   "outputs": [],
   "source": [
    "import nltk"
   ]
  },
  {
   "cell_type": "code",
   "execution_count": 2,
   "id": "ab1bab10",
   "metadata": {},
   "outputs": [],
   "source": [
    "from nltk.corpus import stopwords\n",
    "from nltk.stem import PorterStemmer"
   ]
  },
  {
   "cell_type": "code",
   "execution_count": 50,
   "id": "b587e087",
   "metadata": {},
   "outputs": [],
   "source": [
    "paragraph = \"I have three visions for India. In 3000 years of our history, people from all over the world have come and invaded us, captured our lands, conquered our minds. From Alexander onwards, the Greeks, the Turks, the Moguls, the Portuguese, the British, the French, the Dutch, all of them came and looted us, took over what was ours. Yet we have not done this to any other nation. We have not conquered anyone. We have not grabbed their land, their culture, their history and tried to enforce our way of life on them. Why? Because we respect the freedom of others. That is why my first vision is that of freedom. I believe that India got its first vision of this in 1857, when we started the War of Independence. It is this freedom that we must protect and nurture and build on. If we are not free, no one will respect us. My second vision for India's development. For fifty years we have been a developing nation. It is time we see ourselves as a developed nation. We are among the top 5 nations of the world in terms of GDP. We have a 10 percent growth rate in most areas. Our poverty levels are falling. Our achievements are being globally recognised today. Yet we lack the self-confidence to see ourselves as a developed nation, self-reliant and self-assured. Ion't this incorrect? I have a third vision. India must stand up to the world. Because I believe that unless India stands up to the world, no one will respect us. Only strength respects strength. We must be strong not only as a military power but also as an economic power. Both must go hand-in-hand. My good fortune was to have worked with three great minds. Dr. Vikram Sarabhai of the Dept. of space, Professor Satish Dhawan, who succeeded him and Dr. Brahm Prakash, father of nuclear materi I was lucky to have worked with all three of them closely and consider this the great opportunity I see four milestones in my career\""
   ]
  },
  {
   "cell_type": "code",
   "execution_count": 51,
   "id": "b087e745",
   "metadata": {},
   "outputs": [],
   "source": [
    "sentences = nltk.sent_tokenize(paragragh)"
   ]
  },
  {
   "cell_type": "code",
   "execution_count": 52,
   "id": "dcc56a3d",
   "metadata": {},
   "outputs": [
    {
     "name": "stdout",
     "output_type": "stream",
     "text": [
      "['Modi was born and raised in Vadnagar in northeastern Gujarat, where he completed his secondary education.', 'He was introduced to the RSS at the age of eight.', 'His account of helping his father sell tea at the Vadnagar railway station has not been reliably corroborated.', 'At age 18, he was married to Jashodaben Modi, whom he abandoned soon after, only publicly acknowledging her four decades later when legally required to do so.', 'Modi became a full-time worker for the RSS in Gujarat in 1971.', 'The RSS assigned him to the BJP in 1985 and he held several positions within the party hierarchy until 2001, rising to the rank of general secretary.', '[c] In 2001, Modi was appointed Chief Minister of Gujarat and elected to the legislative assembly soon after.', 'His administration is considered complicit in the 2002 Gujarat riots,[d] and has been criticised for its management of the crisis.', 'A little over 1,000 people were killed, according to official records, three-quarters of whom were Muslim; independent sources estimated 2,000 deaths, mostly Muslim.', '[11] A Special Investigation Team appointed by the Supreme Court of India in 2012 found no evidence to initiate prosecution proceedings against him.', \"[e] While his policies as chief minister, which were credited for encouraging economic growth, were praised, Modi's administration was criticised for failing to significantly improve health, poverty and education indices in the state.\", '[f] In the 2014 Indian general election, Modi led the BJP to a parliamentary majority, the first for a party since 1984.', 'His administration increased direct foreign investment, and it reduced spending on healthcare, education, and social-welfare programmes.', 'Modi began a high-profile sanitation campaign, controversially initiated the 2016 demonetisation of high-denomination banknotes and introduced the Goods and Services Tax, and weakened or abolished environmental and labour laws.']\n"
     ]
    }
   ],
   "source": [
    "print(sentences)"
   ]
  },
  {
   "cell_type": "code",
   "execution_count": 53,
   "id": "eaaeaf43",
   "metadata": {},
   "outputs": [],
   "source": [
    "stemmer = PorterStemmer()"
   ]
  },
  {
   "cell_type": "code",
   "execution_count": 54,
   "id": "695228c5",
   "metadata": {},
   "outputs": [],
   "source": [
    "import re\n",
    "corpus = []\n",
    "for i in range(0,len(sentences)):\n",
    "    review = re.sub(\"[^a-zA-Z]\",\" \", sentences[i])\n",
    "    review = review.lower()\n",
    "    corpus.append(review)"
   ]
  },
  {
   "cell_type": "code",
   "execution_count": 55,
   "id": "17030a20",
   "metadata": {},
   "outputs": [
    {
     "data": {
      "text/plain": [
       "['modi was born and raised in vadnagar in northeastern gujarat  where he completed his secondary education ',\n",
       " 'he was introduced to the rss at the age of eight ',\n",
       " 'his account of helping his father sell tea at the vadnagar railway station has not been reliably corroborated ',\n",
       " 'at age     he was married to jashodaben modi  whom he abandoned soon after  only publicly acknowledging her four decades later when legally required to do so ',\n",
       " 'modi became a full time worker for the rss in gujarat in      ',\n",
       " 'the rss assigned him to the bjp in      and he held several positions within the party hierarchy until       rising to the rank of general secretary ',\n",
       " ' c  in       modi was appointed chief minister of gujarat and elected to the legislative assembly soon after ',\n",
       " 'his administration is considered complicit in the      gujarat riots  d  and has been criticised for its management of the crisis ',\n",
       " 'a little over       people were killed  according to official records  three quarters of whom were muslim  independent sources estimated       deaths  mostly muslim ',\n",
       " '     a special investigation team appointed by the supreme court of india in      found no evidence to initiate prosecution proceedings against him ',\n",
       " ' e  while his policies as chief minister  which were credited for encouraging economic growth  were praised  modi s administration was criticised for failing to significantly improve health  poverty and education indices in the state ',\n",
       " ' f  in the      indian general election  modi led the bjp to a parliamentary majority  the first for a party since      ',\n",
       " 'his administration increased direct foreign investment  and it reduced spending on healthcare  education  and social welfare programmes ',\n",
       " 'modi began a high profile sanitation campaign  controversially initiated the      demonetisation of high denomination banknotes and introduced the goods and services tax  and weakened or abolished environmental and labour laws ']"
      ]
     },
     "execution_count": 55,
     "metadata": {},
     "output_type": "execute_result"
    }
   ],
   "source": [
    "corpus"
   ]
  },
  {
   "cell_type": "code",
   "execution_count": 56,
   "id": "cdb411be",
   "metadata": {},
   "outputs": [],
   "source": [
    "## Stemming \n",
    "stem = [stemmer.stem(word) for word in corpus if not word in set(stopwords.words('english'))] "
   ]
  },
  {
   "cell_type": "code",
   "execution_count": 57,
   "id": "ef6dd5dd",
   "metadata": {},
   "outputs": [
    {
     "data": {
      "text/plain": [
       "['modi was born and raised in vadnagar in northeastern gujarat  where he completed his secondary education ',\n",
       " 'he was introduced to the rss at the age of eight ',\n",
       " 'his account of helping his father sell tea at the vadnagar railway station has not been reliably corroborated ',\n",
       " 'at age     he was married to jashodaben modi  whom he abandoned soon after  only publicly acknowledging her four decades later when legally required to do so ',\n",
       " 'modi became a full time worker for the rss in gujarat in      ',\n",
       " 'the rss assigned him to the bjp in      and he held several positions within the party hierarchy until       rising to the rank of general secretary ',\n",
       " ' c  in       modi was appointed chief minister of gujarat and elected to the legislative assembly soon after ',\n",
       " 'his administration is considered complicit in the      gujarat riots  d  and has been criticised for its management of the crisis ',\n",
       " 'a little over       people were killed  according to official records  three quarters of whom were muslim  independent sources estimated       deaths  mostly muslim ',\n",
       " '     a special investigation team appointed by the supreme court of india in      found no evidence to initiate prosecution proceedings against him ',\n",
       " ' e  while his policies as chief minister  which were credited for encouraging economic growth  were praised  modi s administration was criticised for failing to significantly improve health  poverty and education indices in the state ',\n",
       " ' f  in the      indian general election  modi led the bjp to a parliamentary majority  the first for a party since      ',\n",
       " 'his administration increased direct foreign investment  and it reduced spending on healthcare  education  and social welfare programmes ',\n",
       " 'modi began a high profile sanitation campaign  controversially initiated the      demonetisation of high denomination banknotes and introduced the goods and services tax  and weakened or abolished environmental and labour laws ']"
      ]
     },
     "execution_count": 57,
     "metadata": {},
     "output_type": "execute_result"
    }
   ],
   "source": [
    "stem"
   ]
  },
  {
   "cell_type": "code",
   "execution_count": 58,
   "id": "30dba91d",
   "metadata": {},
   "outputs": [],
   "source": [
    "from nltk.stem import WordNetLemmatizer\n",
    "lemmatizer = WordNetLemmatizer()\n",
    "lem = [lemmatizer.lemmatize(word) for word in corpus if word not in set(stopwords.words(\"english\"))]"
   ]
  },
  {
   "cell_type": "code",
   "execution_count": 59,
   "id": "5a5a8bed",
   "metadata": {},
   "outputs": [
    {
     "data": {
      "text/plain": [
       "['modi was born and raised in vadnagar in northeastern gujarat  where he completed his secondary education ',\n",
       " 'he was introduced to the rss at the age of eight ',\n",
       " 'his account of helping his father sell tea at the vadnagar railway station has not been reliably corroborated ',\n",
       " 'at age     he was married to jashodaben modi  whom he abandoned soon after  only publicly acknowledging her four decades later when legally required to do so ',\n",
       " 'modi became a full time worker for the rss in gujarat in      ',\n",
       " 'the rss assigned him to the bjp in      and he held several positions within the party hierarchy until       rising to the rank of general secretary ',\n",
       " ' c  in       modi was appointed chief minister of gujarat and elected to the legislative assembly soon after ',\n",
       " 'his administration is considered complicit in the      gujarat riots  d  and has been criticised for its management of the crisis ',\n",
       " 'a little over       people were killed  according to official records  three quarters of whom were muslim  independent sources estimated       deaths  mostly muslim ',\n",
       " '     a special investigation team appointed by the supreme court of india in      found no evidence to initiate prosecution proceedings against him ',\n",
       " ' e  while his policies as chief minister  which were credited for encouraging economic growth  were praised  modi s administration was criticised for failing to significantly improve health  poverty and education indices in the state ',\n",
       " ' f  in the      indian general election  modi led the bjp to a parliamentary majority  the first for a party since      ',\n",
       " 'his administration increased direct foreign investment  and it reduced spending on healthcare  education  and social welfare programmes ',\n",
       " 'modi began a high profile sanitation campaign  controversially initiated the      demonetisation of high denomination banknotes and introduced the goods and services tax  and weakened or abolished environmental and labour laws ']"
      ]
     },
     "execution_count": 59,
     "metadata": {},
     "output_type": "execute_result"
    }
   ],
   "source": [
    "lem"
   ]
  },
  {
   "cell_type": "code",
   "execution_count": 60,
   "id": "521a1284",
   "metadata": {},
   "outputs": [],
   "source": [
    "from sklearn.feature_extraction.text import CountVectorizer\n",
    "cv = CountVectorizer()"
   ]
  },
  {
   "cell_type": "code",
   "execution_count": 61,
   "id": "c2060f88",
   "metadata": {},
   "outputs": [],
   "source": [
    "x=cv.fit_transform(corpus)"
   ]
  },
  {
   "cell_type": "code",
   "execution_count": 62,
   "id": "b976d461",
   "metadata": {},
   "outputs": [
    {
     "data": {
      "text/plain": [
       "{'modi': 99,\n",
       " 'was': 160,\n",
       " 'born': 20,\n",
       " 'and': 9,\n",
       " 'raised': 125,\n",
       " 'in': 72,\n",
       " 'vadnagar': 159,\n",
       " 'northeastern': 103,\n",
       " 'gujarat': 59,\n",
       " 'where': 165,\n",
       " 'he': 61,\n",
       " 'completed': 24,\n",
       " 'his': 70,\n",
       " 'secondary': 135,\n",
       " 'education': 40,\n",
       " 'introduced': 80,\n",
       " 'to': 157,\n",
       " 'the': 154,\n",
       " 'rss': 133,\n",
       " 'at': 14,\n",
       " 'age': 8,\n",
       " 'of': 105,\n",
       " 'eight': 41,\n",
       " 'account': 3,\n",
       " 'helping': 65,\n",
       " 'father': 49,\n",
       " 'sell': 137,\n",
       " 'tea': 152,\n",
       " 'railway': 124,\n",
       " 'station': 149,\n",
       " 'has': 60,\n",
       " 'not': 104,\n",
       " 'been': 17,\n",
       " 'reliably': 129,\n",
       " 'corroborated': 28,\n",
       " 'married': 97,\n",
       " 'jashodaben': 86,\n",
       " 'whom': 168,\n",
       " 'abandoned': 0,\n",
       " 'soon': 144,\n",
       " 'after': 6,\n",
       " 'only': 108,\n",
       " 'publicly': 122,\n",
       " 'acknowledging': 4,\n",
       " 'her': 66,\n",
       " 'four': 54,\n",
       " 'decades': 34,\n",
       " 'later': 89,\n",
       " 'when': 164,\n",
       " 'legally': 92,\n",
       " 'required': 130,\n",
       " 'do': 38,\n",
       " 'so': 142,\n",
       " 'became': 16,\n",
       " 'full': 55,\n",
       " 'time': 156,\n",
       " 'worker': 170,\n",
       " 'for': 51,\n",
       " 'assigned': 13,\n",
       " 'him': 69,\n",
       " 'bjp': 19,\n",
       " 'held': 64,\n",
       " 'several': 139,\n",
       " 'positions': 115,\n",
       " 'within': 169,\n",
       " 'party': 112,\n",
       " 'hierarchy': 67,\n",
       " 'until': 158,\n",
       " 'rising': 132,\n",
       " 'rank': 126,\n",
       " 'general': 56,\n",
       " 'secretary': 136,\n",
       " 'appointed': 10,\n",
       " 'chief': 23,\n",
       " 'minister': 98,\n",
       " 'elected': 42,\n",
       " 'legislative': 93,\n",
       " 'assembly': 12,\n",
       " 'administration': 5,\n",
       " 'is': 83,\n",
       " 'considered': 26,\n",
       " 'complicit': 25,\n",
       " 'riots': 131,\n",
       " 'criticised': 32,\n",
       " 'its': 85,\n",
       " 'management': 96,\n",
       " 'crisis': 31,\n",
       " 'little': 94,\n",
       " 'over': 110,\n",
       " 'people': 113,\n",
       " 'were': 163,\n",
       " 'killed': 87,\n",
       " 'according': 2,\n",
       " 'official': 106,\n",
       " 'records': 127,\n",
       " 'three': 155,\n",
       " 'quarters': 123,\n",
       " 'muslim': 101,\n",
       " 'independent': 74,\n",
       " 'sources': 145,\n",
       " 'estimated': 46,\n",
       " 'deaths': 33,\n",
       " 'mostly': 100,\n",
       " 'special': 146,\n",
       " 'investigation': 81,\n",
       " 'team': 153,\n",
       " 'by': 21,\n",
       " 'supreme': 150,\n",
       " 'court': 29,\n",
       " 'india': 75,\n",
       " 'found': 53,\n",
       " 'no': 102,\n",
       " 'evidence': 47,\n",
       " 'initiate': 78,\n",
       " 'prosecution': 121,\n",
       " 'proceedings': 118,\n",
       " 'against': 7,\n",
       " 'while': 167,\n",
       " 'policies': 114,\n",
       " 'as': 11,\n",
       " 'which': 166,\n",
       " 'credited': 30,\n",
       " 'encouraging': 44,\n",
       " 'economic': 39,\n",
       " 'growth': 58,\n",
       " 'praised': 117,\n",
       " 'failing': 48,\n",
       " 'significantly': 140,\n",
       " 'improve': 71,\n",
       " 'health': 62,\n",
       " 'poverty': 116,\n",
       " 'indices': 77,\n",
       " 'state': 148,\n",
       " 'indian': 76,\n",
       " 'election': 43,\n",
       " 'led': 91,\n",
       " 'parliamentary': 111,\n",
       " 'majority': 95,\n",
       " 'first': 50,\n",
       " 'since': 141,\n",
       " 'increased': 73,\n",
       " 'direct': 37,\n",
       " 'foreign': 52,\n",
       " 'investment': 82,\n",
       " 'it': 84,\n",
       " 'reduced': 128,\n",
       " 'spending': 147,\n",
       " 'on': 107,\n",
       " 'healthcare': 63,\n",
       " 'social': 143,\n",
       " 'welfare': 162,\n",
       " 'programmes': 120,\n",
       " 'began': 18,\n",
       " 'high': 68,\n",
       " 'profile': 119,\n",
       " 'sanitation': 134,\n",
       " 'campaign': 22,\n",
       " 'controversially': 27,\n",
       " 'initiated': 79,\n",
       " 'demonetisation': 35,\n",
       " 'denomination': 36,\n",
       " 'banknotes': 15,\n",
       " 'goods': 57,\n",
       " 'services': 138,\n",
       " 'tax': 151,\n",
       " 'weakened': 161,\n",
       " 'or': 109,\n",
       " 'abolished': 1,\n",
       " 'environmental': 45,\n",
       " 'labour': 88,\n",
       " 'laws': 90}"
      ]
     },
     "execution_count": 62,
     "metadata": {},
     "output_type": "execute_result"
    }
   ],
   "source": [
    "cv.vocabulary_"
   ]
  },
  {
   "cell_type": "code",
   "execution_count": 47,
   "id": "d335c388",
   "metadata": {},
   "outputs": [
    {
     "data": {
      "text/plain": [
       "<1x171 sparse matrix of type '<class 'numpy.int64'>'\n",
       "\twith 1 stored elements in Compressed Sparse Row format>"
      ]
     },
     "execution_count": 47,
     "metadata": {},
     "output_type": "execute_result"
    }
   ],
   "source": [
    "x[0]"
   ]
  },
  {
   "cell_type": "code",
   "execution_count": 63,
   "id": "1a3045d1",
   "metadata": {},
   "outputs": [
    {
     "data": {
      "text/plain": [
       "'modi was born and raised in vadnagar in northeastern gujarat  where he completed his secondary education '"
      ]
     },
     "execution_count": 63,
     "metadata": {},
     "output_type": "execute_result"
    }
   ],
   "source": [
    "corpus[0]"
   ]
  },
  {
   "cell_type": "code",
   "execution_count": 64,
   "id": "4070a28b",
   "metadata": {},
   "outputs": [
    {
     "data": {
      "text/plain": [
       "array([[1, 0, 0, 0, 1, 0, 1, 0, 1, 0, 0, 0, 0, 0, 1, 0, 0, 0, 0, 0, 0, 0,\n",
       "        0, 0, 0, 0, 0, 0, 0, 0, 0, 0, 0, 0, 1, 0, 0, 0, 1, 0, 0, 0, 0, 0,\n",
       "        0, 0, 0, 0, 0, 0, 0, 0, 0, 0, 1, 0, 0, 0, 0, 0, 0, 2, 0, 0, 0, 0,\n",
       "        1, 0, 0, 0, 0, 0, 0, 0, 0, 0, 0, 0, 0, 0, 0, 0, 0, 0, 0, 0, 1, 0,\n",
       "        0, 1, 0, 0, 1, 0, 0, 0, 0, 1, 0, 1, 0, 0, 0, 0, 0, 0, 0, 0, 1, 0,\n",
       "        0, 0, 0, 0, 0, 0, 0, 0, 0, 0, 0, 0, 1, 0, 0, 0, 0, 0, 0, 0, 1, 0,\n",
       "        0, 0, 0, 0, 0, 0, 0, 0, 0, 0, 1, 0, 1, 0, 0, 0, 0, 0, 0, 0, 0, 0,\n",
       "        0, 0, 0, 2, 0, 0, 1, 0, 0, 0, 1, 0, 0, 0, 1, 0, 0]], dtype=int64)"
      ]
     },
     "execution_count": 64,
     "metadata": {},
     "output_type": "execute_result"
    }
   ],
   "source": [
    "x[3].toarray()"
   ]
  },
  {
   "cell_type": "code",
   "execution_count": null,
   "id": "4b8978da",
   "metadata": {},
   "outputs": [],
   "source": []
  }
 ],
 "metadata": {
  "kernelspec": {
   "display_name": "Python 3",
   "language": "python",
   "name": "python3"
  },
  "language_info": {
   "codemirror_mode": {
    "name": "ipython",
    "version": 3
   },
   "file_extension": ".py",
   "mimetype": "text/x-python",
   "name": "python",
   "nbconvert_exporter": "python",
   "pygments_lexer": "ipython3",
   "version": "3.8.8"
  }
 },
 "nbformat": 4,
 "nbformat_minor": 5
}
